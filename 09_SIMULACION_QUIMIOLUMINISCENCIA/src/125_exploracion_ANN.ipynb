{
 "cells": [
  {
   "cell_type": "markdown",
   "metadata": {},
   "source": [
    "# Exploración de modelos de red neuronal de PTA para vancomicina"
   ]
  },
  {
   "cell_type": "markdown",
   "metadata": {},
   "source": [
    "## Modelo de red neuronal para indicador primario \n",
    "Indicador primario $\\mathrm{AUC_{24}/MIC} \\geq 400$"
   ]
  },
  {
   "cell_type": "code",
   "execution_count": 1,
   "metadata": {},
   "outputs": [],
   "source": [
    "import tensorflow as tf\n",
    "from tensorflow import keras\n",
    "import numpy as np\n",
    "import pandas as pd\n",
    "import os\n",
    "import matplotlib.pyplot as plt"
   ]
  },
  {
   "cell_type": "code",
   "execution_count": 2,
   "metadata": {},
   "outputs": [],
   "source": [
    "home_dir = os.getcwd()\n",
    "nets_dir = os.path.join(home_dir, '09_SIMULACION_QUIMIOLUMINISCENCIA', \"model\")"
   ]
  },
  {
   "cell_type": "code",
   "execution_count": 3,
   "metadata": {},
   "outputs": [],
   "source": [
    "model = keras.models.load_model(os.path.join(nets_dir, \"model_001\"))"
   ]
  },
  {
   "cell_type": "markdown",
   "metadata": {},
   "source": [
    "Para la predicción se debe utilizar una lista con los siguientes parámetros: `[\"Dosis Diaria\", \"Intervalo entre dosis\", \"Tiempo de infusión\", \"CRCL\", \"log2(MIC)\"]`"
   ]
  },
  {
   "cell_type": "markdown",
   "metadata": {},
   "source": [
    "**Predicción para dosis de 2000 mg/d: 1g q12h tinf. 2 hrs**"
   ]
  },
  {
   "cell_type": "code",
   "execution_count": 28,
   "metadata": {},
   "outputs": [],
   "source": [
    "prediction_CRCL = lambda DD, CLCR: model.predict([[DD, 12, 2, CLCR, 0]], verbose = 0)[0][0]"
   ]
  },
  {
   "cell_type": "code",
   "execution_count": 29,
   "metadata": {},
   "outputs": [
    {
     "name": "stdout",
     "output_type": "stream",
     "text": [
      "0.8542917\n",
      "0.7918909\n",
      "0.6174139\n"
     ]
    }
   ],
   "source": [
    "print(prediction_CRCL(2000, 90))\n",
    "print(prediction_CRCL(2000, 100))\n",
    "print(prediction_CRCL(2000, 120))"
   ]
  },
  {
   "cell_type": "code",
   "execution_count": 35,
   "metadata": {},
   "outputs": [],
   "source": [
    "vec_CRCL = np.linspace(80, 170, 100)\n",
    "vec_PTA  = [prediction_CRCL(2000, i) for i in vec_CRCL]"
   ]
  },
  {
   "cell_type": "code",
   "execution_count": 31,
   "metadata": {},
   "outputs": [],
   "source": [
    "def bisseccion(a, b, f, NA = 1e3, tol = 1e-6):\n",
    "    i = 1\n",
    "    fa = f(a)\n",
    "\n",
    "    while i <= NA:\n",
    "        p = a + (b - a)/2\n",
    "        fp = f(p)\n",
    "\n",
    "        if fp == 0 or (b - a)/2 < tol:\n",
    "            return p\n",
    "        i += 1\n",
    "\n",
    "        if fa * fp > 0:\n",
    "            a = p\n",
    "            fa = fp\n",
    "        else:\n",
    "            b = p\n",
    "\n",
    "    return None"
   ]
  },
  {
   "cell_type": "code",
   "execution_count": 32,
   "metadata": {},
   "outputs": [
    {
     "name": "stdout",
     "output_type": "stream",
     "text": [
      "90.71458876132965\n"
     ]
    },
    {
     "data": {
      "text/plain": [
       "80.36384999752045"
      ]
     },
     "execution_count": 32,
     "metadata": {},
     "output_type": "execute_result"
    }
   ],
   "source": [
    "yintercept = bisseccion(80, 160, lambda x: prediction_CRCL(2000, x) - 0.85)\n",
    "print(yintercept)\n",
    "yintercept = bisseccion(80, 160, lambda x: prediction_CRCL(2000, x) - 0.90)\n",
    "yintercept"
   ]
  },
  {
   "cell_type": "code",
   "execution_count": 37,
   "metadata": {},
   "outputs": [
    {
     "data": {
      "text/plain": [
       "(80.0, 170.0)"
      ]
     },
     "execution_count": 37,
     "metadata": {},
     "output_type": "execute_result"
    },
    {
     "data": {
      "image/png": "[encoded data removed]",
      "text/plain": [
       "<Figure size 720x432 with 1 Axes>"
      ]
     },
     "metadata": {
      "needs_background": "light"
     },
     "output_type": "display_data"
    }
   ],
   "source": [
    "fig, ax = plt.subplots(1,1, figsize = (10, 6))\n",
    "\n",
    "ax.plot(vec_CRCL, vec_PTA, 'r-')\n",
    "ax.axhline(0.90, color = 'k', linestyle = '--')\n",
    "ax.axvline(yintercept, color = 'k', linestyle = '--')\n",
    "\n",
    "ax.set_xlabel(\"eGFR (mL/min/1.73m$^2$)\")\n",
    "ax.set_ylabel(\"PTA\")\n",
    "ax.set_ylim(0, 1)\n",
    "ax.set_xlim(80, 170)"
   ]
  },
  {
   "cell_type": "markdown",
   "metadata": {},
   "source": [
    "**Predicción para dosis de 2500 mg: 1.25 g q12h tinf. 2 hrs**"
   ]
  },
  {
   "cell_type": "code",
   "execution_count": 38,
   "metadata": {},
   "outputs": [],
   "source": [
    "prediction_CRCL = lambda DD, CLCR: model.predict([[DD, 12, 2, CLCR, 0]], verbose = 0)[0][0]"
   ]
  },
  {
   "cell_type": "code",
   "execution_count": 42,
   "metadata": {},
   "outputs": [
    {
     "name": "stdout",
     "output_type": "stream",
     "text": [
      "132.26940125226974\n"
     ]
    },
    {
     "data": {
      "text/plain": [
       "122.43445247411728"
      ]
     },
     "execution_count": 42,
     "metadata": {},
     "output_type": "execute_result"
    }
   ],
   "source": [
    "vec_CRCL = np.linspace(80, 170, 100)\n",
    "vec_PTA  = [prediction_CRCL(2500, i) for i in vec_CRCL]\n",
    "yintercept = bisseccion(90, 150, lambda x: prediction_CRCL(2500, x) - 0.85)\n",
    "print(yintercept)\n",
    "yintercept = bisseccion(90, 150, lambda x: prediction_CRCL(2500, x) - 0.90)\n",
    "yintercept"
   ]
  },
  {
   "cell_type": "code",
   "execution_count": 43,
   "metadata": {},
   "outputs": [
    {
     "data": {
      "text/plain": [
       "(80.0, 170.0)"
      ]
     },
     "execution_count": 43,
     "metadata": {},
     "output_type": "execute_result"
    },
    {
     "data": {
      "image/png": "[encoded data removed]",
      "text/plain": [
       "<Figure size 720x432 with 1 Axes>"
      ]
     },
     "metadata": {
      "needs_background": "light"
     },
     "output_type": "display_data"
    }
   ],
   "source": [
    "fig, ax = plt.subplots(1,1, figsize = (10, 6))\n",
    "\n",
    "ax.plot(vec_CRCL, vec_PTA, 'r-')\n",
    "ax.axhline(0.90, color = 'k', linestyle = '--')\n",
    "ax.axvline(yintercept, color = 'k', linestyle = '--')\n",
    "\n",
    "ax.set_xlabel(\"eGFR (mL/min/1.73m$^2$)\")\n",
    "ax.set_ylabel(\"PTA\")\n",
    "ax.set_ylim(0, 1)\n",
    "ax.set_xlim(80, 170)"
   ]
  },
  {
   "cell_type": "markdown",
   "metadata": {},
   "source": [
    "**Predicción para dosis de 3000 mg: 1.25 g q12h tinf. 2 hrs**"
   ]
  },
  {
   "cell_type": "code",
   "execution_count": 44,
   "metadata": {},
   "outputs": [
    {
     "name": "stdout",
     "output_type": "stream",
     "text": [
      "166.6218952089548\n"
     ]
    },
    {
     "data": {
      "text/plain": [
       "157.5102313607931"
      ]
     },
     "execution_count": 44,
     "metadata": {},
     "output_type": "execute_result"
    }
   ],
   "source": [
    "vec_CRCL = np.linspace(80, 170, 100)\n",
    "vec_PTA  = [prediction_CRCL(3000, i) for i in vec_CRCL]\n",
    "yintercept = bisseccion(80, 170, lambda x: prediction_CRCL(3000, x) - 0.85)\n",
    "print(yintercept)\n",
    "yintercept = bisseccion(80, 170, lambda x: prediction_CRCL(3000, x) - 0.90)\n",
    "yintercept"
   ]
  },
  {
   "cell_type": "code",
   "execution_count": 45,
   "metadata": {},
   "outputs": [
    {
     "data": {
      "text/plain": [
       "(80.0, 170.0)"
      ]
     },
     "execution_count": 45,
     "metadata": {},
     "output_type": "execute_result"
    },
    {
     "data": {
      "image/png": "[encoded data removed]",
      "text/plain": [
       "<Figure size 720x432 with 1 Axes>"
      ]
     },
     "metadata": {
      "needs_background": "light"
     },
     "output_type": "display_data"
    }
   ],
   "source": [
    "fig, ax = plt.subplots(1,1, figsize = (10, 6))\n",
    "\n",
    "ax.plot(vec_CRCL, vec_PTA, 'r-')\n",
    "ax.axhline(0.90, color = 'k', linestyle = '--')\n",
    "ax.axvline(yintercept, color = 'k', linestyle = '--')\n",
    "\n",
    "ax.set_xlabel(\"eGFR (mL/min/1.73m$^2$)\")\n",
    "ax.set_ylabel(\"PTA\")\n",
    "ax.set_ylim(0, 1)\n",
    "ax.set_xlim(80, 170)"
   ]
  },
  {
   "cell_type": "code",
   "execution_count": null,
   "metadata": {},
   "outputs": [],
   "source": []
  }
 ],
 "metadata": {
  "kernelspec": {
   "display_name": "Python 3.10.4 64-bit",
   "language": "python",
   "name": "python3"
  },
  "language_info": {
   "codemirror_mode": {
    "name": "ipython",
    "version": 3
   },
   "file_extension": ".py",
   "mimetype": "text/x-python",
   "name": "python",
   "nbconvert_exporter": "python",
   "pygments_lexer": "ipython3",
   "version": "3.10.4"
  },
  "orig_nbformat": 4,
  "vscode": {
   "interpreter": {
    "hash": "32f2fe102a4f10662d8c13f75131e1ba377b7194060421a642fdea27c55fc65a"
   }
  }
 },
 "nbformat": 4,
 "nbformat_minor": 2
}
